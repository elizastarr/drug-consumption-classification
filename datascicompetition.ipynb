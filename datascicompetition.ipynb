{
 "cells": [
  {
   "cell_type": "code",
   "execution_count": 1,
   "metadata": {},
   "outputs": [
    {
     "ename": "SyntaxError",
     "evalue": "invalid syntax (<ipython-input-1-372551bba22b>, line 2)",
     "output_type": "error",
     "traceback": [
      "\u001b[0;36m  File \u001b[0;32m\"<ipython-input-1-372551bba22b>\"\u001b[0;36m, line \u001b[0;32m2\u001b[0m\n\u001b[0;31m    * You may work in teams and collaborate\u001b[0m\n\u001b[0m    ^\u001b[0m\n\u001b[0;31mSyntaxError\u001b[0m\u001b[0;31m:\u001b[0m invalid syntax\n"
     ]
    }
   ],
   "source": [
    "# Cometition Info\n",
    "* You may work in teams and collaborate\n",
    "* Competition ends at 7PM\n",
    "* Submission Guidelines:\n",
    "    * Turn in a CSV column holding classification prediction 0 or 1\n",
    "\n",
    "## Data Set Information:\n",
    "https://archive.ics.uci.edu/ml/datasets/Drug+consumption+%28quantified%29#\n",
    "\n",
    "Abstract: Classify type of drug consumer by personality data\n",
    "Data Set Characteristics:  Multivariate\n",
    "Number of Instances: 1885\n",
    "Area: Social\n",
    "Attribute Characteristics: Real\n",
    "Number of Attributes: 32\n",
    "Associated Tasks: Classification\n",
    "Missing Values? N/A\n",
    "\n",
    "The dataset comes from a dataframe containing information about drug use. The classes are 0, not a user, and 1, user. Your job is to predict these classes for each observation.\n",
    "\n",
    "The categorical data has been preprocessed for us so that all values are of type float. There are no missing values. Headers are included in the CSV's but the code below omitts the headers.\n",
    "\n",
    "### Files\n",
    "__x_train__\n",
    "* has columns \n",
    "    * 'id', (__not a predictor, for reference only__)\n",
    "    * 'age',\n",
    "    * 'gender',\n",
    "    * 'education',\n",
    "    * 'country',\n",
    "    * 'ethnicity',\n",
    "    * 'neuroticism',\n",
    "    * 'extraversion',\n",
    "    * 'openness',\n",
    "    * 'agreeableness',\n",
    "    * 'conscientiousness',\n",
    "    * 'impulsiveness',\n",
    "    * 'sensation_seeing','\n",
    "* shape (1413, 13)\n",
    "\n",
    "__y_train__ \n",
    "* has one column containiing classifications on the x_train \n",
    "    * values 0 or 1, cooresponding to not a user or user, respectively.\n",
    "* shape (1413,)\n",
    "\n",
    "* use y_train and x_train this data to train your model\n",
    "\n",
    "__x_test__\n",
    "* has the same columns as x_train\n",
    "* once you have made your model, use this data to make your predictions (y_test)\n",
    "    * then follow the submission guidelines above\n",
    "* shape (472, 13)\n",
    "\n",
    "### Useful functions\n",
    "* `np.set_printoptions(precision=3, suppress=True)`\n",
    "    * `print(y_train)`\n",
    "* `train, test = train_test_split(data)`\n",
    "* `test[\"id\"][np.where(test[\"user\"] == 0)] `\n",
    "* for submission\n",
    "    * `np.savetxt(\"test.txt\", test, fmt='%.18e', delimiter=',', newline='\\n', header='', footer='', comments='# ')`\n",
    "\n",
    "### A link to get you started\n",
    "http://scikit-learn.org/stable/supervised_learning.html#supervised-learning\n",
    "\n",
    "#### Useful functions\n",
    "* `np.set_printoptions(precision=3, suppress=True)`\n",
    "    * `print(<dataset>)`\n",
    "* `train, test = train_test_split(data)`\n",
    "* `test[\"id\"][np.where(test[\"user\"] == 0)] ` # where function is useful\n",
    "* for submission\n",
    "    * `np.savetxt(\"test.txt\", test, fmt='%.18e', delimiter=',', newline='\\n', header='', footer='', comments='# ')`\n",
    "\n",
    "#### Imports"
   ]
  },
  {
   "cell_type": "code",
   "execution_count": 27,
   "metadata": {},
   "outputs": [],
   "source": [
    "from numpy import genfromtxt\n",
    "import numpy as np\n",
    "from sklearn.model_selection import train_test_split # can use this to split your data \n",
    "from sklearn.ensemble import RandomForestClassifier\n",
    "from sklearn.gaussian_process import GaussianProcessClassifier"
   ]
  },
  {
   "cell_type": "markdown",
   "metadata": {},
   "source": [
    "#### Data"
   ]
  },
  {
   "cell_type": "code",
   "execution_count": 28,
   "metadata": {},
   "outputs": [],
   "source": [
    "# Split into your own test and train from this data\n",
    "train = genfromtxt('train.csv', delimiter=',', skip_header=1, dtype=float)\n",
    "\n",
    "# Use this at the end when you are ready to submit your prediction\n",
    "x_test = genfromtxt('x_test.csv', delimiter=',', skip_header=1, dtype=float) ##DONT CHANGE THIS DATA IN ANY WAY"
   ]
  },
  {
   "cell_type": "code",
   "execution_count": 29,
   "metadata": {},
   "outputs": [],
   "source": [
    "X = train[:,2:13] # select all columns except 'id' as training data column, standard features\n",
    "y = train[:,13] # select last column as prediction column"
   ]
  },
  {
   "cell_type": "markdown",
   "metadata": {},
   "source": [
    "#### Example of how you could split your test and train data\n",
    "\n",
    "`X_train, X_test, y_train, y_test = train_test_split(X, y)`"
   ]
  },
  {
   "cell_type": "code",
   "execution_count": 30,
   "metadata": {},
   "outputs": [],
   "source": [
    "X_train, X_test, y_train, y_test = train_test_split(X, y) #splitting data"
   ]
  },
  {
   "cell_type": "code",
   "execution_count": 31,
   "metadata": {},
   "outputs": [
    {
     "data": {
      "text/plain": [
       "RandomForestClassifier(bootstrap=True, class_weight=None, criterion='gini',\n",
       "            max_depth=None, max_features='auto', max_leaf_nodes=None,\n",
       "            min_impurity_split=1e-07, min_samples_leaf=1,\n",
       "            min_samples_split=2, min_weight_fraction_leaf=0.0,\n",
       "            n_estimators=15, n_jobs=1, oob_score=False, random_state=None,\n",
       "            verbose=0, warm_start=False)"
      ]
     },
     "execution_count": 31,
     "metadata": {},
     "output_type": "execute_result"
    }
   ],
   "source": [
    "#classifier, sklearn for machine learning turorials\n",
    "#class sklearn.ensemble.RandomForestClassifier(n_estimators=10, criterion=’gini’, max_depth=None, min_samples_split=2, min_samples_leaf=1, min_weight_fraction_leaf=0.0, max_features=’auto’, max_leaf_nodes=None, min_impurity_decrease=0.0, min_impurity_split=None, bootstrap=True, oob_score=False, n_jobs=1, random_state=None, verbose=0, warm_start=False, class_weight=None)\n",
    "clf = RandomForestClassifier(n_estimators=15) #set to default\n",
    "#n_estimators - number of trees in the forest, larger better\n",
    "#\n",
    "clf.fit(X_train, y_train) #do math based on this model"
   ]
  },
  {
   "cell_type": "code",
   "execution_count": 40,
   "metadata": {},
   "outputs": [],
   "source": [
    "clf.predict(X_test) #now testing\n",
    "clf.score(X_test, y_test) #percent accuracy\n",
    "#default - .7034\n",
    "#n_estimators=20 - .7119\n",
    "#n_estimators=15 - .7260\n",
    "prediction = clf.predict(x_test[:,2:13])\n",
    "np.savetxt(\"Starr.txt\", prediction, fmt='%.18e', delimiter=',', newline='\\n', header='', footer='', comments='# ')"
   ]
  },
  {
   "cell_type": "code",
   "execution_count": 41,
   "metadata": {},
   "outputs": [
    {
     "data": {
      "text/plain": [
       "RandomForestClassifier(bootstrap=True, class_weight=None, criterion='gini',\n",
       "            max_depth=None, max_features='auto', max_leaf_nodes=None,\n",
       "            min_impurity_split=1e-07, min_samples_leaf=1,\n",
       "            min_samples_split=2, min_weight_fraction_leaf=0.0,\n",
       "            n_estimators=15, n_jobs=1, oob_score=False, random_state=None,\n",
       "            verbose=0, warm_start=False)"
      ]
     },
     "execution_count": 41,
     "metadata": {},
     "output_type": "execute_result"
    }
   ],
   "source": [
    "#GaussianProcessClassifier(kernel=None, optimizer=’fmin_l_bfgs_b’, n_restarts_optimizer=0, max_iter_predict=100, warm_start=False, copy_X_train=True, random_state=None, multi_class=’one_vs_rest’, n_jobs=1)\n",
    "clf1=GaussianProcessClassifier()\n",
    "clf.fit(X_train, y_train)"
   ]
  },
  {
   "cell_type": "code",
   "execution_count": 42,
   "metadata": {},
   "outputs": [
    {
     "data": {
      "text/plain": [
       "0.7231638418079096"
      ]
     },
     "execution_count": 42,
     "metadata": {},
     "output_type": "execute_result"
    }
   ],
   "source": [
    "clf.predict(X_test) #now testing\n",
    "clf.score(X_test, y_test) #percent accuracy"
   ]
  },
  {
   "cell_type": "code",
   "execution_count": null,
   "metadata": {},
   "outputs": [],
   "source": []
  }
 ],
 "metadata": {
  "kernelspec": {
   "display_name": "Python 2",
   "language": "python",
   "name": "python2"
  },
  "language_info": {
   "codemirror_mode": {
    "name": "ipython",
    "version": 2
   },
   "file_extension": ".py",
   "mimetype": "text/x-python",
   "name": "python",
   "nbconvert_exporter": "python",
   "pygments_lexer": "ipython2",
   "version": "2.7.12"
  }
 },
 "nbformat": 4,
 "nbformat_minor": 2
}
